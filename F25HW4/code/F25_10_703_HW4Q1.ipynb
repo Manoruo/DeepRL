{
  "cells": [
    {
      "cell_type": "markdown",
      "metadata": {
        "id": "OQdKfCKbYqCO"
      },
      "source": [
        "### Setup: Import Dependencies\n",
        "Run the cell below to import the relevant dependencies."
      ]
    },
    {
      "cell_type": "code",
      "execution_count": 1,
      "metadata": {
        "id": "FChV28AmVSKu"
      },
      "outputs": [],
      "source": [
        "import numpy as np\n",
        "import matplotlib.pyplot as plt\n",
        "import gymnasium as gym\n",
        "import functools"
      ]
    },
    {
      "cell_type": "markdown",
      "metadata": {
        "id": "WILXO6JzTaQC"
      },
      "source": [
        "### Part 1: CMA-ES\n",
        "Implement CMA-ES below."
      ]
    },
    {
      "cell_type": "code",
      "execution_count": 2,
      "metadata": {
        "id": "zEIfLn7KTbse"
      },
      "outputs": [],
      "source": [
        "def cmaes(fn, dim, num_iter=10):\n",
        "  \"\"\"Optimizes a given function using CMA-ES.\n",
        "\n",
        "  Args:\n",
        "    fn: A function that takes as input a vector and outputs a scalar value.\n",
        "    dim: (int) The dimension of the vector that fn expects as input.\n",
        "    num_iter: (int) Number of iterations to run CMA-ES.\n",
        "\n",
        "  Returns:\n",
        "    mu_vec: An array of size [num_iter, dim] storing the value of mu at each\n",
        "      iteration.\n",
        "    best_sample_vec: A list of length [num_iter] storing the function value\n",
        "      for the best sample from each iteration of CMA-ES.\n",
        "    mean_sample_vec: A list of length [num_iter] storing the average function\n",
        "      value across samples from each iteration of CMA-ES.\n",
        "  \"\"\"\n",
        "  # Hyperparameters\n",
        "  sigma = 10\n",
        "  population_size = 100\n",
        "  p_keep = 0.10  # Fraction of population to keep\n",
        "  noise = 0.25  # Noise added to covariance to prevent it from going to 0.\n",
        "\n",
        "  # Initialize the mean and covariance\n",
        "  mu = np.zeros(dim)\n",
        "  cov = sigma**2 * np.eye(dim)\n",
        "\n",
        "  mu_vec = []\n",
        "  best_sample_vec = []\n",
        "  mean_sample_vec = []\n",
        "  for t in range(num_iter):\n",
        "    # WRITE CODE HERE\n",
        "    mutations = np.random.multivariate_normal(mu, cov, population_size) \n",
        "    fitness_scores = np.array([fn(mutation) for mutation in mutations])\n",
        "    \n",
        "    num_keep = int(population_size * p_keep)\n",
        "    elities_indices = np.argsort(fitness_scores)[-num_keep:]\n",
        "    elities = mutations[elities_indices]\n",
        "    elities_fitness = fitness_scores[elities_indices]\n",
        "    mu = np.mean(elities, axis=0)\n",
        "    cov = np.cov(elities, rowvar=False) + noise * np.eye(dim)\n",
        "\n",
        "    mu_vec.append(mu)\n",
        "    best_sample_vec.append(np.max(elities_fitness))\n",
        "    mean_sample_vec.append(np.mean(fitness_scores))\n",
        "\n",
        "    print(f\"Generation {t+1}: Best Fitness = {best_sample_vec[-1]}\")\n",
        "\n",
        "  return mu_vec, best_sample_vec, mean_sample_vec"
      ]
    },
    {
      "cell_type": "markdown",
      "metadata": {
        "id": "4ql_mylUaFEL"
      },
      "source": [
        "In the cell below, we've defined a simply function:\n",
        "$$f(x) = -\\|x - x^*\\|_2^2 \\quad \\text{where} \\quad x^* = [65, 49].$$\n",
        "This function is optimized when $x = x^*$. Run your implementation of CMA-ES on this function, confirming that you get the correct solution."
      ]
    },
    {
      "cell_type": "code",
      "execution_count": 3,
      "metadata": {
        "id": "yUZ3MSV2VJdP"
      },
      "outputs": [
        {
          "name": "stdout",
          "output_type": "stream",
          "text": [
            "Generation 1: Best Fitness = -3024.4747587363254\n",
            "Generation 2: Best Fitness = -2376.1025440712974\n",
            "Generation 3: Best Fitness = -2142.68552330088\n",
            "Generation 4: Best Fitness = -2117.5080718577024\n",
            "Generation 5: Best Fitness = -2034.2187985719524\n",
            "Generation 6: Best Fitness = -1966.1332915927283\n",
            "Generation 7: Best Fitness = -1855.9688917086664\n",
            "Generation 8: Best Fitness = -1805.348810091959\n",
            "Generation 9: Best Fitness = -1741.280327018194\n",
            "Generation 10: Best Fitness = -1620.2569995341844\n",
            "Generation 11: Best Fitness = -1543.901366510563\n",
            "Generation 12: Best Fitness = -1460.5966335856256\n",
            "Generation 13: Best Fitness = -1393.8560193478552\n",
            "Generation 14: Best Fitness = -1252.7368694483782\n",
            "Generation 15: Best Fitness = -1209.1706188371136\n",
            "Generation 16: Best Fitness = -1127.7665516707107\n",
            "Generation 17: Best Fitness = -1080.486770992377\n",
            "Generation 18: Best Fitness = -996.2949281990495\n",
            "Generation 19: Best Fitness = -938.1758236225462\n",
            "Generation 20: Best Fitness = -890.2705339375675\n",
            "Generation 21: Best Fitness = -831.5368249228957\n",
            "Generation 22: Best Fitness = -776.7695408488615\n",
            "Generation 23: Best Fitness = -733.0954458420082\n",
            "Generation 24: Best Fitness = -666.290534705056\n",
            "Generation 25: Best Fitness = -573.4785141169796\n",
            "Generation 26: Best Fitness = -557.6288145693497\n",
            "Generation 27: Best Fitness = -500.11515726330845\n",
            "Generation 28: Best Fitness = -449.11148086581284\n",
            "Generation 29: Best Fitness = -420.56955575836844\n",
            "Generation 30: Best Fitness = -395.6771256233002\n",
            "Generation 31: Best Fitness = -359.1917357466177\n",
            "Generation 32: Best Fitness = -333.66922458429343\n",
            "Generation 33: Best Fitness = -298.2257850065528\n",
            "Generation 34: Best Fitness = -268.320408672679\n",
            "Generation 35: Best Fitness = -242.48648498810053\n",
            "Generation 36: Best Fitness = -210.81715565268271\n",
            "Generation 37: Best Fitness = -198.87177182652442\n",
            "Generation 38: Best Fitness = -175.19280610400358\n",
            "Generation 39: Best Fitness = -143.5991948017579\n",
            "Generation 40: Best Fitness = -118.98777400973921\n",
            "Generation 41: Best Fitness = -97.35419740622315\n",
            "Generation 42: Best Fitness = -85.6720775586274\n",
            "Generation 43: Best Fitness = -66.71662807379833\n",
            "Generation 44: Best Fitness = -50.249763002251626\n",
            "Generation 45: Best Fitness = -37.59269062874835\n",
            "Generation 46: Best Fitness = -26.907287383899103\n",
            "Generation 47: Best Fitness = -14.951127617442333\n",
            "Generation 48: Best Fitness = -8.686967006716314\n",
            "Generation 49: Best Fitness = -5.748477122280205\n",
            "Generation 50: Best Fitness = -1.451981479867544\n",
            "Generation 51: Best Fitness = -0.24873734776703632\n",
            "Generation 52: Best Fitness = -0.028079356621220568\n",
            "Generation 53: Best Fitness = -0.001072825468183822\n",
            "Generation 54: Best Fitness = -0.004982438339466854\n",
            "Generation 55: Best Fitness = -0.0005907677333911518\n",
            "Generation 56: Best Fitness = -0.0011573603144559527\n",
            "Generation 57: Best Fitness = -0.004550486016532144\n",
            "Generation 58: Best Fitness = -0.008852983306232461\n",
            "Generation 59: Best Fitness = -0.0021093000863409385\n",
            "Generation 60: Best Fitness = -0.0011263773567367526\n",
            "Generation 61: Best Fitness = -0.0029899002462439057\n",
            "Generation 62: Best Fitness = -0.0009350821468575542\n",
            "Generation 63: Best Fitness = -0.0014654991199004172\n",
            "Generation 64: Best Fitness = -0.012363077922952726\n",
            "Generation 65: Best Fitness = -0.0008145055354132415\n",
            "Generation 66: Best Fitness = -0.008452753161549925\n",
            "Generation 67: Best Fitness = -0.002416626653029888\n",
            "Generation 68: Best Fitness = -0.0016096877429097227\n",
            "Generation 69: Best Fitness = -0.009317893496210355\n",
            "Generation 70: Best Fitness = -0.0010721219911622702\n",
            "Generation 71: Best Fitness = -0.005089635516556907\n",
            "Generation 72: Best Fitness = -0.013987590100045034\n",
            "Generation 73: Best Fitness = -0.005745159998363277\n",
            "Generation 74: Best Fitness = -0.00044573681842715354\n",
            "Generation 75: Best Fitness = -0.0076325212019451635\n",
            "Generation 76: Best Fitness = -0.00022715299952849876\n",
            "Generation 77: Best Fitness = -6.855426598223832e-05\n",
            "Generation 78: Best Fitness = -0.0033520207657671414\n",
            "Generation 79: Best Fitness = -0.0007831514316128296\n",
            "Generation 80: Best Fitness = -0.0012812383464720193\n",
            "Generation 81: Best Fitness = -0.010937007530981124\n",
            "Generation 82: Best Fitness = -0.010427824896901243\n",
            "Generation 83: Best Fitness = -0.0013060243198203627\n",
            "Generation 84: Best Fitness = -0.0004697197065966762\n",
            "Generation 85: Best Fitness = -0.0011100164363170883\n",
            "Generation 86: Best Fitness = -0.000589340019917432\n",
            "Generation 87: Best Fitness = -0.0006059595910471465\n",
            "Generation 88: Best Fitness = -0.010058902954498542\n",
            "Generation 89: Best Fitness = -0.0024760152671260134\n",
            "Generation 90: Best Fitness = -0.013466633117993145\n",
            "Generation 91: Best Fitness = -0.008767807326288804\n",
            "Generation 92: Best Fitness = -0.004602077787371375\n",
            "Generation 93: Best Fitness = -0.0005518366997748331\n",
            "Generation 94: Best Fitness = -0.004058837271980551\n",
            "Generation 95: Best Fitness = -0.00013360536945155972\n",
            "Generation 96: Best Fitness = -0.0006105846763149553\n",
            "Generation 97: Best Fitness = -0.0013725851603286151\n",
            "Generation 98: Best Fitness = -0.0018297683164601145\n",
            "Generation 99: Best Fitness = -0.0012968999451610358\n",
            "Generation 100: Best Fitness = -0.002579541472222285\n"
          ]
        }
      ],
      "source": [
        "def test_fn(x):\n",
        "  goal = np.array([65, 49])\n",
        "  return -np.sum((x - goal)**2)\n",
        "\n",
        "mu_vec, best_sample_vec, mean_sample_vec = cmaes(test_fn, dim=2, num_iter=100)"
      ]
    },
    {
      "cell_type": "markdown",
      "metadata": {
        "id": "v5tRptWHcvLR"
      },
      "source": [
        "Run the following cell to visualize CMA-ES."
      ]
    },
    {
      "cell_type": "code",
      "execution_count": 4,
      "metadata": {
        "id": "f6YhcWX6bCWP"
      },
      "outputs": [
        {
          "data": {
            "image/png": "[encoded data removed]",
            "text/plain": [
              "<Figure size 600x400 with 2 Axes>"
            ]
          },
          "metadata": {},
          "output_type": "display_data"
        }
      ],
      "source": [
        "x = np.stack(np.meshgrid(np.linspace(-10, 100, 30), np.linspace(-10, 100, 30)), axis=-1)\n",
        "fn_value = [test_fn(xx) for xx in x.reshape((-1, 2))]\n",
        "fn_value = np.array(fn_value).reshape((30, 30))\n",
        "plt.figure(figsize=(6, 4))\n",
        "plt.contourf(x[:, :, 0], x[:, :, 1], fn_value, levels=10)\n",
        "plt.colorbar()\n",
        "mu_vec = np.array(mu_vec)\n",
        "plt.plot(mu_vec[:, 0], mu_vec[:, 1], 'b-o')\n",
        "plt.plot([mu_vec[0, 0]], [mu_vec[0, 1]], 'r+', ms=20, label='initial value')\n",
        "plt.plot([mu_vec[-1, 0]], [mu_vec[-1, 1]], 'g+', ms=20, label='final value')\n",
        "plt.plot([65], [49], 'kx', ms=20, label='maximum')\n",
        "plt.legend()\n",
        "plt.show()"
      ]
    },
    {
      "cell_type": "markdown",
      "metadata": {
        "id": "8g30ba1xc4LN"
      },
      "source": [
        "Next, you will apply CMA-ES to a more complicating: maximizing the expected reward of a RL agent. The policy takes action LEFT with probability:\n",
        "$$\\pi(a = \\text{LEFT} \\mid s) = s \\cdot w + b,$$\n",
        "where $w \\in \\mathbb{R}^4$ and $b \\in \\mathbb{R}$ are parameters that you will optimize with CMA-ES. In the cell below, define a function that takes as input a single vector $x = (w, b)$ and the environment and returns the total (undiscounted) reward from one episode."
      ]
    },
    {
      "cell_type": "code",
      "execution_count": 5,
      "metadata": {
        "id": "sWq9HYaTVuuF"
      },
      "outputs": [],
      "source": [
        "def _sigmoid(x):\n",
        "  return 1 / (1 + np.exp(-x))\n",
        "\n",
        "def _get_action(s, params):\n",
        "  w = params[:4]\n",
        "  b = params[4]\n",
        "  p_left = _sigmoid(w @ s + b)\n",
        "  a = np.random.choice(2, p=[p_left, 1 - p_left])\n",
        "  return a\n",
        "\n",
        "def rl_fn(params, env):\n",
        "    assert len(params) == 5\n",
        "    ## WRITE CODE HERE\n",
        "    total_rewards = 0\n",
        "    s, _ = env.reset()\n",
        "    done = False\n",
        "    while not done:\n",
        "        a = _get_action(s, params)\n",
        "        s, r, terminated, truncated, _ = env.step(a)\n",
        "        done = terminated or truncated\n",
        "        total_rewards += r\n",
        "        \n",
        "    return total_rewards # Return total rewards"
      ]
    },
    {
      "cell_type": "code",
      "execution_count": 6,
      "metadata": {},
      "outputs": [
        {
          "name": "stdout",
          "output_type": "stream",
          "text": [
            "Eval x1: 15.803\n",
            "Eval x2: 13.881\n",
            "Eval x3: 9.432\n"
          ]
        }
      ],
      "source": [
        "# Q1.2\n",
        "def eval_rl_fn(params, num_iterations):\n",
        "  env = gym.make('CartPole-v1')\n",
        "  total_rewards = 0\n",
        "  for _ in range(num_iterations):\n",
        "    total_rewards += rl_fn(params, env)\n",
        "  return total_rewards / num_iterations\n",
        "\n",
        "x1 = np.array([-1, -1, -1, -1, -1])\n",
        "x2 = np.array([1, 0, 1, 0, 1])\n",
        "x3 = np.array([0, 1, 2, 3, 4])\n",
        "\n",
        "\n",
        "print(\"Eval x1:\", eval_rl_fn(x1, 1000))\n",
        "print(\"Eval x2:\", eval_rl_fn(x2, 1000))\n",
        "print(\"Eval x3:\", eval_rl_fn(x3, 1000))"
      ]
    },
    {
      "cell_type": "markdown",
      "metadata": {
        "id": "hLis8GoXeKg6"
      },
      "source": [
        "The cell below applies your CMA-ES implementation to the RL objective you've defined in the cell above."
      ]
    },
    {
      "cell_type": "code",
      "execution_count": 7,
      "metadata": {
        "id": "nuHlGZaEX48n"
      },
      "outputs": [
        {
          "name": "stderr",
          "output_type": "stream",
          "text": [
            "/opt/homebrew/anaconda3/envs/f25-703-HW1/lib/python3.10/site-packages/gymnasium/envs/registration.py:512: DeprecationWarning: \u001b[33mWARN: The environment CartPole-v0 is out of date. You should consider upgrading to version `v1`.\u001b[0m\n",
            "  logger.deprecation(\n"
          ]
        },
        {
          "name": "stdout",
          "output_type": "stream",
          "text": [
            "Generation 1: Best Fitness = 136.0\n",
            "Generation 2: Best Fitness = 200.0\n",
            "Generation 3: Best Fitness = 200.0\n",
            "Generation 4: Best Fitness = 200.0\n",
            "Generation 5: Best Fitness = 200.0\n",
            "Generation 6: Best Fitness = 200.0\n",
            "Generation 7: Best Fitness = 200.0\n",
            "Generation 8: Best Fitness = 200.0\n",
            "Generation 9: Best Fitness = 200.0\n",
            "Generation 10: Best Fitness = 200.0\n"
          ]
        }
      ],
      "source": [
        "env = gym.make('CartPole-v0')\n",
        "fn_with_env = functools.partial(rl_fn, env=env)\n",
        "mu_vec, best_sample_vec, mean_sample_vec = cmaes(fn_with_env, dim=5, num_iter=10)"
      ]
    },
    {
      "cell_type": "code",
      "execution_count": 8,
      "metadata": {
        "id": "pEoIFTFvvyvk"
      },
      "outputs": [
        {
          "data": {
            "image/png": "[encoded data removed]",
            "text/plain": [
              "<Figure size 640x480 with 1 Axes>"
            ]
          },
          "metadata": {},
          "output_type": "display_data"
        }
      ],
      "source": [
        "#Include plot showing mean\n",
        "#sample reward and best sample reward (Y axis) across iterations (X axis). Remember\n",
        "#to label both lines and both axes.\n",
        "\n",
        "plt.plot(best_sample_vec, label='Best Sample')\n",
        "plt.plot(mean_sample_vec, label='Mean Sample')\n",
        "plt.xlabel('Iteration')\n",
        "plt.ylabel('Function Value')\n",
        "plt.legend()\n",
        "plt.show()\n",
        "\n"
      ]
    }
  ],
  "metadata": {
    "colab": {
      "provenance": []
    },
    "kernelspec": {
      "display_name": "f25-703-HW1",
      "language": "python",
      "name": "python3"
    },
    "language_info": {
      "codemirror_mode": {
        "name": "ipython",
        "version": 3
      },
      "file_extension": ".py",
      "mimetype": "text/x-python",
      "name": "python",
      "nbconvert_exporter": "python",
      "pygments_lexer": "ipython3",
      "version": "3.10.12"
    }
  },
  "nbformat": 4,
  "nbformat_minor": 0
}
