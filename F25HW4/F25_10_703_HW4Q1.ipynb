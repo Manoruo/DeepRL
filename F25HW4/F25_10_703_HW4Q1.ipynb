{
  "cells": [
    {
      "cell_type": "markdown",
      "metadata": {
        "id": "OQdKfCKbYqCO"
      },
      "source": [
        "### Setup: Import Dependencies\n",
        "Run the cell below to import the relevant dependencies."
      ]
    },
    {
      "cell_type": "code",
      "execution_count": 7,
      "metadata": {
        "id": "FChV28AmVSKu"
      },
      "outputs": [],
      "source": [
        "import numpy as np\n",
        "import matplotlib.pyplot as plt\n",
        "import gymnasium as gym\n",
        "import functools"
      ]
    },
    {
      "cell_type": "markdown",
      "metadata": {
        "id": "WILXO6JzTaQC"
      },
      "source": [
        "### Part 1: CMA-ES\n",
        "Implement CMA-ES below."
      ]
    },
    {
      "cell_type": "code",
      "execution_count": null,
      "metadata": {
        "id": "zEIfLn7KTbse"
      },
      "outputs": [],
      "source": [
        "def cmaes(fn, dim, num_iter=10):\n",
        "  \"\"\"Optimizes a given function using CMA-ES.\n",
        "\n",
        "  Args:\n",
        "    fn: A function that takes as input a vector and outputs a scalar value.\n",
        "    dim: (int) The dimension of the vector that fn expects as input.\n",
        "    num_iter: (int) Number of iterations to run CMA-ES.\n",
        "\n",
        "  Returns:\n",
        "    mu_vec: An array of size [num_iter, dim] storing the value of mu at each\n",
        "      iteration.\n",
        "    best_sample_vec: A list of length [num_iter] storing the function value\n",
        "      for the best sample from each iteration of CMA-ES.\n",
        "    mean_sample_vec: A list of length [num_iter] storing the average function\n",
        "      value across samples from each iteration of CMA-ES.\n",
        "  \"\"\"\n",
        "  # Hyperparameters\n",
        "  sigma = 10\n",
        "  population_size = 100\n",
        "  p_keep = 0.10  # Fraction of population to keep\n",
        "  noise = 0.25  # Noise added to covariance to prevent it from going to 0.\n",
        "\n",
        "  # Initialize the mean and covariance\n",
        "  mu = np.zeros(dim)\n",
        "  cov = sigma**2 * np.eye(dim)\n",
        "\n",
        "  mu_vec = []\n",
        "  best_sample_vec = []\n",
        "  mean_sample_vec = []\n",
        "  for t in range(num_iter):\n",
        "    # WRITE CODE HERE\n",
        "    mutations = np.random.multivariate_normal(mu, cov, population_size) \n",
        "    fitness_scores = np.array([fn(mutation) for mutation in mutations])\n",
        "    \n",
        "    num_keep = int(population_size * p_keep)\n",
        "    elities_indices = np.argsort(fitness_scores)[-num_keep:]\n",
        "    elities = mutations[elities_indices]\n",
        "    elities_fitness = fitness_scores[elities_indices]\n",
        "    mu = np.mean(elities, axis=0)\n",
        "    cov = np.cov(elities, rowvar=False) + noise * np.eye(dim)\n",
        "\n",
        "    mu_vec.append(mu)\n",
        "    best_sample_vec.append(np.max(elities_fitness))\n",
        "    mean_sample_vec.append(np.mean(fitness_scores))\n",
        "\n",
        "    print(f\"Generation {t+1}: Best Fitness = {best_sample_vec[-1]}\")\n",
        "\n",
        "  return mu_vec, best_sample_vec, mean_sample_vec"
      ]
    },
    {
      "cell_type": "markdown",
      "metadata": {
        "id": "4ql_mylUaFEL"
      },
      "source": [
        "In the cell below, we've defined a simply function:\n",
        "$$f(x) = -\\|x - x^*\\|_2^2 \\quad \\text{where} \\quad x^* = [65, 49].$$\n",
        "This function is optimized when $x = x^*$. Run your implementation of CMA-ES on this function, confirming that you get the correct solution."
      ]
    },
    {
      "cell_type": "code",
      "execution_count": 28,
      "metadata": {
        "id": "yUZ3MSV2VJdP"
      },
      "outputs": [
        {
          "name": "stdout",
          "output_type": "stream",
          "text": [
            "Generation 1: Best Fitness = -2781.7929259996436\n",
            "Generation 2: Best Fitness = -2902.282951368641\n",
            "Generation 3: Best Fitness = -2774.6821475281467\n",
            "Generation 4: Best Fitness = -2768.257971095406\n",
            "Generation 5: Best Fitness = -2760.7454358874656\n",
            "Generation 6: Best Fitness = -2762.941579136831\n",
            "Generation 7: Best Fitness = -2761.7034166536373\n",
            "Generation 8: Best Fitness = -2760.8780156440703\n",
            "Generation 9: Best Fitness = -2760.805864733407\n",
            "Generation 10: Best Fitness = -2760.7647613000327\n",
            "Generation 11: Best Fitness = -2760.704453362059\n",
            "Generation 12: Best Fitness = -2760.704831858854\n",
            "Generation 13: Best Fitness = -2760.6993717513515\n",
            "Generation 14: Best Fitness = -2760.699245169245\n",
            "Generation 15: Best Fitness = -2760.699190585475\n",
            "Generation 16: Best Fitness = -2760.6991441193813\n",
            "Generation 17: Best Fitness = -2760.699128376583\n",
            "Generation 18: Best Fitness = -2760.6991272552264\n",
            "Generation 19: Best Fitness = -2760.699125290238\n",
            "Generation 20: Best Fitness = -2760.6991244941682\n",
            "Generation 21: Best Fitness = -2760.6991244626383\n",
            "Generation 22: Best Fitness = -2760.69912436346\n",
            "Generation 23: Best Fitness = -2760.699124298638\n",
            "Generation 24: Best Fitness = -2760.6991243042253\n",
            "Generation 25: Best Fitness = -2760.6991243055195\n",
            "Generation 26: Best Fitness = -2760.69912430313\n",
            "Generation 27: Best Fitness = -2760.699124302165\n",
            "Generation 28: Best Fitness = -2760.6991243019716\n",
            "Generation 29: Best Fitness = -2760.6991243018224\n",
            "Generation 30: Best Fitness = -2760.699124301771\n",
            "Generation 31: Best Fitness = -2760.6991243017737\n",
            "Generation 32: Best Fitness = -2760.699124301765\n",
            "Generation 33: Best Fitness = -2760.6991243017637\n",
            "Generation 34: Best Fitness = -2760.6991243017615\n",
            "Generation 35: Best Fitness = -2760.699124301762\n",
            "Generation 36: Best Fitness = -2760.699124301762\n",
            "Generation 37: Best Fitness = -2760.699124301761\n",
            "Generation 38: Best Fitness = -2760.699124301761\n",
            "Generation 39: Best Fitness = -2760.699124301761\n",
            "Generation 40: Best Fitness = -2760.6991243017605\n",
            "Generation 41: Best Fitness = -2760.69912430176\n",
            "Generation 42: Best Fitness = -2760.6991243017605\n",
            "Generation 43: Best Fitness = -2760.69912430176\n",
            "Generation 44: Best Fitness = -2760.699124301759\n",
            "Generation 45: Best Fitness = -2760.699124301759\n",
            "Generation 46: Best Fitness = -2760.699124301759\n",
            "Generation 47: Best Fitness = -2760.6991243017587\n",
            "Generation 48: Best Fitness = -2760.6991243017583\n",
            "Generation 49: Best Fitness = -2760.699124301758\n",
            "Generation 50: Best Fitness = -2760.6991243017574\n",
            "Generation 51: Best Fitness = -2760.6991243017574\n",
            "Generation 52: Best Fitness = -2760.6991243017574\n",
            "Generation 53: Best Fitness = -2760.6991243017565\n",
            "Generation 54: Best Fitness = -2760.699124301755\n",
            "Generation 55: Best Fitness = -2760.6991243017555\n",
            "Generation 56: Best Fitness = -2760.6991243017555\n",
            "Generation 57: Best Fitness = -2760.699124301755\n",
            "Generation 58: Best Fitness = -2760.6991243017546\n",
            "Generation 59: Best Fitness = -2760.699124301754\n",
            "Generation 60: Best Fitness = -2760.6991243017537\n",
            "Generation 61: Best Fitness = -2760.699124301753\n",
            "Generation 62: Best Fitness = -2760.699124301752\n",
            "Generation 63: Best Fitness = -2760.699124301751\n",
            "Generation 64: Best Fitness = -2760.69912430175\n",
            "Generation 65: Best Fitness = -2760.6991243017505\n",
            "Generation 66: Best Fitness = -2760.69912430175\n",
            "Generation 67: Best Fitness = -2760.69912430175\n",
            "Generation 68: Best Fitness = -2760.6991243017496\n",
            "Generation 69: Best Fitness = -2760.699124301749\n",
            "Generation 70: Best Fitness = -2760.699124301749\n",
            "Generation 71: Best Fitness = -2760.699124301749\n",
            "Generation 72: Best Fitness = -2760.6991243017483\n",
            "Generation 73: Best Fitness = -2760.6991243017483\n",
            "Generation 74: Best Fitness = -2760.6991243017483\n",
            "Generation 75: Best Fitness = -2760.6991243017474\n",
            "Generation 76: Best Fitness = -2760.6991243017465\n",
            "Generation 77: Best Fitness = -2760.6991243017465\n",
            "Generation 78: Best Fitness = -2760.6991243017465\n",
            "Generation 79: Best Fitness = -2760.699124301746\n",
            "Generation 80: Best Fitness = -2760.6991243017455\n",
            "Generation 81: Best Fitness = -2760.6991243017446\n",
            "Generation 82: Best Fitness = -2760.699124301744\n",
            "Generation 83: Best Fitness = -2760.6991243017437\n",
            "Generation 84: Best Fitness = -2760.699124301743\n",
            "Generation 85: Best Fitness = -2760.699124301742\n",
            "Generation 86: Best Fitness = -2760.6991243017414\n",
            "Generation 87: Best Fitness = -2760.699124301741\n",
            "Generation 88: Best Fitness = -2760.699124301741\n",
            "Generation 89: Best Fitness = -2760.6991243017405\n",
            "Generation 90: Best Fitness = -2760.699124301739\n",
            "Generation 91: Best Fitness = -2760.699124301739\n",
            "Generation 92: Best Fitness = -2760.699124301739\n",
            "Generation 93: Best Fitness = -2760.6991243017383\n",
            "Generation 94: Best Fitness = -2760.699124301738\n",
            "Generation 95: Best Fitness = -2760.6991243017383\n",
            "Generation 96: Best Fitness = -2760.699124301738\n",
            "Generation 97: Best Fitness = -2760.6991243017374\n",
            "Generation 98: Best Fitness = -2760.6991243017374\n",
            "Generation 99: Best Fitness = -2760.699124301737\n",
            "Generation 100: Best Fitness = -2760.6991243017355\n"
          ]
        }
      ],
      "source": [
        "def test_fn(x):\n",
        "  goal = np.array([65, 49])\n",
        "  return -np.sum((x - goal)**2)\n",
        "\n",
        "mu_vec, best_sample_vec, mean_sample_vec = cmaes(test_fn, dim=2, num_iter=100)"
      ]
    },
    {
      "cell_type": "markdown",
      "metadata": {
        "id": "v5tRptWHcvLR"
      },
      "source": [
        "Run the following cell to visualize CMA-ES."
      ]
    },
    {
      "cell_type": "code",
      "execution_count": 10,
      "metadata": {
        "id": "f6YhcWX6bCWP"
      },
      "outputs": [
        {
          "data": {
            "image/png": "[encoded data removed]",
            "text/plain": [
              "<Figure size 600x400 with 2 Axes>"
            ]
          },
          "metadata": {},
          "output_type": "display_data"
        }
      ],
      "source": [
        "x = np.stack(np.meshgrid(np.linspace(-10, 100, 30), np.linspace(-10, 100, 30)), axis=-1)\n",
        "fn_value = [test_fn(xx) for xx in x.reshape((-1, 2))]\n",
        "fn_value = np.array(fn_value).reshape((30, 30))\n",
        "plt.figure(figsize=(6, 4))\n",
        "plt.contourf(x[:, :, 0], x[:, :, 1], fn_value, levels=10)\n",
        "plt.colorbar()\n",
        "mu_vec = np.array(mu_vec)\n",
        "plt.plot(mu_vec[:, 0], mu_vec[:, 1], 'b-o')\n",
        "plt.plot([mu_vec[0, 0]], [mu_vec[0, 1]], 'r+', ms=20, label='initial value')\n",
        "plt.plot([mu_vec[-1, 0]], [mu_vec[-1, 1]], 'g+', ms=20, label='final value')\n",
        "plt.plot([65], [49], 'kx', ms=20, label='maximum')\n",
        "plt.legend()\n",
        "plt.show()"
      ]
    },
    {
      "cell_type": "markdown",
      "metadata": {
        "id": "8g30ba1xc4LN"
      },
      "source": [
        "Next, you will apply CMA-ES to a more complicating: maximizing the expected reward of a RL agent. The policy takes action LEFT with probability:\n",
        "$$\\pi(a = \\text{LEFT} \\mid s) = s \\cdot w + b,$$\n",
        "where $w \\in \\mathbb{R}^4$ and $b \\in \\mathbb{R}$ are parameters that you will optimize with CMA-ES. In the cell below, define a function that takes as input a single vector $x = (w, b)$ and the environment and returns the total (undiscounted) reward from one episode."
      ]
    },
    {
      "cell_type": "code",
      "execution_count": 11,
      "metadata": {
        "id": "sWq9HYaTVuuF"
      },
      "outputs": [],
      "source": [
        "def _sigmoid(x):\n",
        "  return 1 / (1 + np.exp(-x))\n",
        "\n",
        "def _get_action(s, params):\n",
        "  w = params[:4]\n",
        "  b = params[4]\n",
        "  p_left = _sigmoid(w @ s + b)\n",
        "  a = np.random.choice(2, p=[p_left, 1 - p_left])\n",
        "  return a\n",
        "\n",
        "def rl_fn(params, env):\n",
        "    assert len(params) == 5\n",
        "    ## WRITE CODE HERE\n",
        "    total_rewards = 0\n",
        "    s, _ = env.reset()\n",
        "    done = False\n",
        "    while not done:\n",
        "        a = _get_action(s, params)\n",
        "        s, r, terminated, truncated, _ = env.step(a)\n",
        "        done = terminated or truncated\n",
        "        total_rewards += r\n",
        "        \n",
        "    return total_rewards # Return total rewards"
      ]
    },
    {
      "cell_type": "code",
      "execution_count": 19,
      "metadata": {},
      "outputs": [
        {
          "name": "stdout",
          "output_type": "stream",
          "text": [
            "Eval x1: 15.732\n",
            "Eval x2: 14.381\n",
            "Eval x3: 9.425\n"
          ]
        }
      ],
      "source": [
        "# Q1.2\n",
        "def eval_rl_fn(params, num_iterations):\n",
        "  env = gym.make('CartPole-v1')\n",
        "  total_rewards = 0\n",
        "  for _ in range(num_iterations):\n",
        "    total_rewards += rl_fn(params, env)\n",
        "  return total_rewards / num_iterations\n",
        "\n",
        "x1 = np.array([-1, -1, -1, -1, -1])\n",
        "x2 = np.array([1, 0, 1, 0, 1])\n",
        "x3 = np.array([0, 1, 2, 3, 4])\n",
        "\n",
        "\n",
        "print(\"Eval x1:\", eval_rl_fn(x1, 1000))\n",
        "print(\"Eval x2:\", eval_rl_fn(x2, 1000))\n",
        "print(\"Eval x3:\", eval_rl_fn(x3, 1000))"
      ]
    },
    {
      "cell_type": "markdown",
      "metadata": {
        "id": "hLis8GoXeKg6"
      },
      "source": [
        "The cell below applies your CMA-ES implementation to the RL objective you've defined in the cell above."
      ]
    },
    {
      "cell_type": "code",
      "execution_count": 12,
      "metadata": {
        "id": "nuHlGZaEX48n"
      },
      "outputs": [
        {
          "name": "stdout",
          "output_type": "stream",
          "text": [
            "Generation 1: Best Fitness = 168.0\n",
            "Generation 2: Best Fitness = 200.0\n",
            "Generation 3: Best Fitness = 200.0\n",
            "Generation 4: Best Fitness = 200.0\n",
            "Generation 5: Best Fitness = 200.0\n",
            "Generation 6: Best Fitness = 200.0\n",
            "Generation 7: Best Fitness = 200.0\n",
            "Generation 8: Best Fitness = 200.0\n",
            "Generation 9: Best Fitness = 200.0\n",
            "Generation 10: Best Fitness = 200.0\n"
          ]
        }
      ],
      "source": [
        "env = gym.make('CartPole-v0')\n",
        "fn_with_env = functools.partial(rl_fn, env=env)\n",
        "mu_vec, best_sample_vec, mean_sample_vec = cmaes(fn_with_env, dim=5, num_iter=10)"
      ]
    },
    {
      "cell_type": "code",
      "execution_count": null,
      "metadata": {
        "id": "pEoIFTFvvyvk"
      },
      "outputs": [
        {
          "data": {
            "image/png": "[encoded data removed]",
            "text/plain": [
              "<Figure size 640x480 with 1 Axes>"
            ]
          },
          "metadata": {},
          "output_type": "display_data"
        }
      ],
      "source": [
        "#Include plot showing mean\n",
        "#sample reward and best sample reward (Y axis) across iterations (X axis). Remember\n",
        "#to label both lines and both axes.\n",
        "\n",
        "plt.plot(best_sample_vec, label='Best Sample')\n",
        "plt.plot(mean_sample_vec, label='Mean Sample')\n",
        "plt.xlabel('Iteration')\n",
        "plt.ylabel('Function Value')\n",
        "plt.legend()\n",
        "plt.show()\n",
        "\n"
      ]
    }
  ],
  "metadata": {
    "colab": {
      "provenance": []
    },
    "kernelspec": {
      "display_name": "f25-703-HW1",
      "language": "python",
      "name": "python3"
    },
    "language_info": {
      "codemirror_mode": {
        "name": "ipython",
        "version": 3
      },
      "file_extension": ".py",
      "mimetype": "text/x-python",
      "name": "python",
      "nbconvert_exporter": "python",
      "pygments_lexer": "ipython3",
      "version": "3.10.12"
    }
  },
  "nbformat": 4,
  "nbformat_minor": 0
}
